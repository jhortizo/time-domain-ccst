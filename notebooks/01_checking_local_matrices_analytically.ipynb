{
 "cells": [
  {
   "cell_type": "markdown",
   "metadata": {},
   "source": [
    "# Analytic integration of C-CST element\n",
    "\n",
    "We tried to do the computational implementation directly and failed 🥲. So we need to build the local matrices for our element analytically and use that as a reference to fix the numerical approach.\n",
    "\n",
    "The element is a 9-node quadrilateral where the 9-nodes are used to interpolate the x and y displacements, the 4 nodes on the vertices are used to interpolate the rotation field and the element in the facet interpolates the skew-symmetric part of the force-stress tensor.\n",
    "\n",
    "It is a slight variation from the element described in [Guarín Variational methods for Bloch analysis paper](https://arxiv.org/pdf/2106.08893)\n"
   ]
  },
  {
   "cell_type": "code",
   "execution_count": 2,
   "metadata": {},
   "outputs": [
    {
     "name": "stdout",
     "output_type": "stream",
     "text": [
      "IPython console for SymPy 1.12 (Python 3.12.2-64-bit) (ground types: python)\n",
      "\n",
      "These commands were executed:\n",
      ">>> from sympy import *\n",
      ">>> x, y, z, t = symbols('x y z t')\n",
      ">>> k, m, n = symbols('k m n', integer=True)\n",
      ">>> f, g, h = symbols('f g h', cls=Function)\n",
      ">>> init_printing()\n",
      "\n",
      "Documentation can be found at https://docs.sympy.org/1.12/\n",
      "\n"
     ]
    }
   ],
   "source": [
    "from sympy import (\n",
    "    init_session,\n",
    "    symbols,\n",
    "    Matrix,\n",
    "    S,\n",
    "    zeros,\n",
    "    integrate,\n",
    "    diff,\n",
    "    simplify,\n",
    "    eye,\n",
    ")\n",
    "\n",
    "init_session()"
   ]
  },
  {
   "cell_type": "code",
   "execution_count": 3,
   "metadata": {},
   "outputs": [],
   "source": [
    "E, rho, eta = symbols('E rho eta', positive=True)\n",
    "nu, r, s = symbols('nu r s')"
   ]
  },
  {
   "cell_type": "markdown",
   "metadata": {},
   "source": [
    "## Constitutive equations \n",
    "\n",
    "In Voigt's notation for plane-strain"
   ]
  },
  {
   "cell_type": "code",
   "execution_count": 4,
   "metadata": {},
   "outputs": [
    {
     "data": {
      "text/latex": [
       "$\\displaystyle \\left[\\begin{matrix}1 & \\frac{\\nu}{1 - \\nu} & 0\\\\\\frac{\\nu}{1 - \\nu} & 1 & 0\\\\0 & 0 & \\frac{1 - 2 \\nu}{2 - 2 \\nu}\\end{matrix}\\right]$"
      ],
      "text/plain": [
       "⎡         ν           ⎤\n",
       "⎢  1    ─────     0   ⎥\n",
       "⎢       1 - ν         ⎥\n",
       "⎢                     ⎥\n",
       "⎢  ν                  ⎥\n",
       "⎢─────    1       0   ⎥\n",
       "⎢1 - ν                ⎥\n",
       "⎢                     ⎥\n",
       "⎢              1 - 2⋅ν⎥\n",
       "⎢  0      0    ───────⎥\n",
       "⎣              2 - 2⋅ν⎦"
      ]
     },
     "metadata": {},
     "output_type": "display_data"
    },
    {
     "data": {
      "text/latex": [
       "$\\displaystyle \\left[\\begin{matrix}1 & 0.408450704225352 & 0\\\\0.408450704225352 & 1 & 0\\\\0 & 0 & 0.295774647887324\\end{matrix}\\right]$"
      ],
      "text/plain": [
       "⎡        1          0.408450704225352          0        ⎤\n",
       "⎢                                                       ⎥\n",
       "⎢0.408450704225352          1                  0        ⎥\n",
       "⎢                                                       ⎥\n",
       "⎣        0                  0          0.295774647887324⎦"
      ]
     },
     "metadata": {},
     "output_type": "display_data"
    }
   ],
   "source": [
    "factor = E*(1 - nu)/((1 + nu)*(1-2*nu))\n",
    "factor = 1\n",
    "C = factor*Matrix([\n",
    "     [1,nu/(1 - nu),0], \n",
    "     [nu/(1 - nu),1,0], \n",
    "     [0,0,(1-2*nu)/(2*(1 - nu))]])\n",
    "\n",
    "display(C)\n",
    "display(C.subs(nu, 0.29).subs(E, 2))"
   ]
  },
  {
   "cell_type": "code",
   "execution_count": 5,
   "metadata": {},
   "outputs": [
    {
     "data": {
      "text/latex": [
       "$\\displaystyle \\left[\\begin{matrix}40000.0 & 0\\\\0 & 40000.0\\end{matrix}\\right]$"
      ],
      "text/plain": [
       "⎡40000.0     0   ⎤\n",
       "⎢                ⎥\n",
       "⎣   0     40000.0⎦"
      ]
     },
     "execution_count": 5,
     "metadata": {},
     "output_type": "execute_result"
    }
   ],
   "source": [
    "D = 4*eta*eye(2)\n",
    "D.subs(eta, 1e4)"
   ]
  },
  {
   "cell_type": "markdown",
   "metadata": {},
   "source": [
    "## Element formulation"
   ]
  },
  {
   "cell_type": "markdown",
   "metadata": {},
   "source": [
    "### Interpolating functions"
   ]
  },
  {
   "cell_type": "markdown",
   "metadata": {},
   "source": [
    "4 nodes interpolation functions\n",
    "\n",
    "    4-----3\n",
    "    |     |\n",
    "    |     |\n",
    "    1-----2"
   ]
  },
  {
   "cell_type": "code",
   "execution_count": 6,
   "metadata": {},
   "outputs": [
    {
     "data": {
      "text/latex": [
       "$\\displaystyle \\left[\\begin{matrix}0.7872125625\\\\0.1000374375\\\\0.0127125625\\\\0.1000374375\\end{matrix}\\right]$"
      ],
      "text/plain": [
       "⎡0.7872125625⎤\n",
       "⎢            ⎥\n",
       "⎢0.1000374375⎥\n",
       "⎢            ⎥\n",
       "⎢0.0127125625⎥\n",
       "⎢            ⎥\n",
       "⎣0.1000374375⎦"
      ]
     },
     "execution_count": 6,
     "metadata": {},
     "output_type": "execute_result"
    }
   ],
   "source": [
    "N4 = S(1)/4*Matrix([(1 - r) * (1 - s),\n",
    "                   (1 + r) * (1 - s),\n",
    "                   (1 + r) * (1 + s),\n",
    "                   (1 - r) * (1 + s),])\n",
    "N4.subs(r, -0.7745).subs(s, -0.7745)"
   ]
  },
  {
   "cell_type": "markdown",
   "metadata": {},
   "source": [
    "9 nodes interpolation functions\n",
    "\n",
    "    4--7--3\n",
    "    |     |\n",
    "    8  9  6\n",
    "    |     |\n",
    "    1--5--2"
   ]
  },
  {
   "cell_type": "code",
   "execution_count": 7,
   "metadata": {},
   "outputs": [
    {
     "data": {
      "text/latex": [
       "$\\displaystyle \\left[\\begin{matrix}1\\\\0\\\\0\\\\0\\\\0\\\\0\\\\0\\\\0\\\\0\\end{matrix}\\right]$"
      ],
      "text/plain": [
       "⎡1⎤\n",
       "⎢ ⎥\n",
       "⎢0⎥\n",
       "⎢ ⎥\n",
       "⎢0⎥\n",
       "⎢ ⎥\n",
       "⎢0⎥\n",
       "⎢ ⎥\n",
       "⎢0⎥\n",
       "⎢ ⎥\n",
       "⎢0⎥\n",
       "⎢ ⎥\n",
       "⎢0⎥\n",
       "⎢ ⎥\n",
       "⎢0⎥\n",
       "⎢ ⎥\n",
       "⎣0⎦"
      ]
     },
     "execution_count": 7,
     "metadata": {},
     "output_type": "execute_result"
    }
   ],
   "source": [
    "N9 =  Matrix(\n",
    "        [S(1)/4*r*s*(r - 1)*(s - 1),\n",
    "         S(1)/4*r*s*(r + 1)*(s - 1),\n",
    "         S(1)/4*r*s*(r + 1)*(s + 1),\n",
    "         S(1)/4*r*s*(r - 1)*(s + 1),\n",
    "         S(1)/2*s*(-r**2 + 1)*(s - 1),\n",
    "         S(1)/2*r*(r + 1)*(-s**2 + 1),\n",
    "         S(1)/2*s*(-r**2 + 1)*(s + 1),\n",
    "         S(1)/2*r*(r - 1)*(-s**2 + 1),\n",
    "         (-r**2 + 1)*(-s**2 + 1)])\n",
    "\n",
    "N9.subs(r, -1).subs(s, -1)"
   ]
  },
  {
   "cell_type": "code",
   "execution_count": 8,
   "metadata": {},
   "outputs": [
    {
     "data": {
      "image/png": "[encoded data removed]",
      "text/latex": [
       "$\\displaystyle -0.8758046968125$"
      ],
      "text/plain": [
       "-0.875804696812500"
      ]
     },
     "metadata": {},
     "output_type": "display_data"
    },
    {
     "data": {
      "image/png": "[encoded data removed]",
      "text/latex": [
       "$\\displaystyle -0.1886295718125$"
      ],
      "text/plain": [
       "-0.188629571812500"
      ]
     },
     "metadata": {},
     "output_type": "display_data"
    },
    {
     "data": {
      "image/png": "[encoded data removed]",
      "text/latex": [
       "$\\displaystyle 0.0239706781875$"
      ],
      "text/plain": [
       "0.0239706781875000"
      ]
     },
     "metadata": {},
     "output_type": "display_data"
    },
    {
     "data": {
      "image/png": "[encoded data removed]",
      "text/latex": [
       "$\\displaystyle 0.1112955531875$"
      ],
      "text/plain": [
       "0.111295553187500"
      ]
     },
     "metadata": {},
     "output_type": "display_data"
    },
    {
     "data": {
      "image/png": "[encoded data removed]",
      "text/latex": [
       "$\\displaystyle 1.064434268625$"
      ],
      "text/plain": [
       "1.06443426862500"
      ]
     },
     "metadata": {},
     "output_type": "display_data"
    },
    {
     "data": {
      "image/png": "[encoded data removed]",
      "text/latex": [
       "$\\displaystyle -0.109841106375$"
      ],
      "text/plain": [
       "-0.109841106375000"
      ]
     },
     "metadata": {},
     "output_type": "display_data"
    },
    {
     "data": {
      "image/png": "[encoded data removed]",
      "text/latex": [
       "$\\displaystyle -0.135266231375$"
      ],
      "text/plain": [
       "-0.135266231375000"
      ]
     },
     "metadata": {},
     "output_type": "display_data"
    },
    {
     "data": {
      "image/png": "[encoded data removed]",
      "text/latex": [
       "$\\displaystyle -0.509990856375$"
      ],
      "text/plain": [
       "-0.509990856375000"
      ]
     },
     "metadata": {},
     "output_type": "display_data"
    },
    {
     "data": {
      "image/png": "[encoded data removed]",
      "text/latex": [
       "$\\displaystyle 0.61983196275$"
      ],
      "text/plain": [
       "0.619831962750000"
      ]
     },
     "metadata": {},
     "output_type": "display_data"
    }
   ],
   "source": [
    "for i in range(len(N9)):\n",
    "    display(simplify(diff(N9[i], r)).subs(r, -0.7745).subs(s, -0.7745))\n"
   ]
  },
  {
   "cell_type": "code",
   "execution_count": 9,
   "metadata": {},
   "outputs": [
    {
     "data": {
      "image/png": "[encoded data removed]",
      "text/latex": [
       "$\\displaystyle -0.443625$"
      ],
      "text/plain": [
       "-0.443625000000000"
      ]
     },
     "metadata": {},
     "output_type": "display_data"
    },
    {
     "data": {
      "image/png": "[encoded data removed]",
      "text/latex": [
       "$\\displaystyle 0.443625$"
      ],
      "text/plain": [
       "0.443625000000000"
      ]
     },
     "metadata": {},
     "output_type": "display_data"
    },
    {
     "data": {
      "image/png": "[encoded data removed]",
      "text/latex": [
       "$\\displaystyle 0.056375$"
      ],
      "text/plain": [
       "0.0563750000000000"
      ]
     },
     "metadata": {},
     "output_type": "display_data"
    },
    {
     "data": {
      "image/png": "[encoded data removed]",
      "text/latex": [
       "$\\displaystyle -0.056375$"
      ],
      "text/plain": [
       "-0.0563750000000000"
      ]
     },
     "metadata": {},
     "output_type": "display_data"
    }
   ],
   "source": [
    "for i in range(len(N4)):\n",
    "    display(simplify(diff(N4[i], r)).subs(r, -0.7745).subs(s, -0.7745))\n"
   ]
  },
  {
   "cell_type": "markdown",
   "metadata": {},
   "source": [
    "### Interpolation matrices"
   ]
  },
  {
   "cell_type": "code",
   "execution_count": 10,
   "metadata": {},
   "outputs": [
    {
     "data": {
      "text/latex": [
       "$\\displaystyle \\left[\\begin{array}{cccccccccccccccccc}\\frac{r s \\left(r - 1\\right) \\left(s - 1\\right)}{4} & 0 & \\frac{r s \\left(r + 1\\right) \\left(s - 1\\right)}{4} & 0 & \\frac{r s \\left(r + 1\\right) \\left(s + 1\\right)}{4} & 0 & \\frac{r s \\left(r - 1\\right) \\left(s + 1\\right)}{4} & 0 & \\frac{s \\left(1 - r^{2}\\right) \\left(s - 1\\right)}{2} & 0 & \\frac{r \\left(1 - s^{2}\\right) \\left(r + 1\\right)}{2} & 0 & \\frac{s \\left(1 - r^{2}\\right) \\left(s + 1\\right)}{2} & 0 & \\frac{r \\left(1 - s^{2}\\right) \\left(r - 1\\right)}{2} & 0 & \\left(1 - r^{2}\\right) \\left(1 - s^{2}\\right) & 0\\\\0 & \\frac{r s \\left(r - 1\\right) \\left(s - 1\\right)}{4} & 0 & \\frac{r s \\left(r + 1\\right) \\left(s - 1\\right)}{4} & 0 & \\frac{r s \\left(r + 1\\right) \\left(s + 1\\right)}{4} & 0 & \\frac{r s \\left(r - 1\\right) \\left(s + 1\\right)}{4} & 0 & \\frac{s \\left(1 - r^{2}\\right) \\left(s - 1\\right)}{2} & 0 & \\frac{r \\left(1 - s^{2}\\right) \\left(r + 1\\right)}{2} & 0 & \\frac{s \\left(1 - r^{2}\\right) \\left(s + 1\\right)}{2} & 0 & \\frac{r \\left(1 - s^{2}\\right) \\left(r - 1\\right)}{2} & 0 & \\left(1 - r^{2}\\right) \\left(1 - s^{2}\\right)\\end{array}\\right]$"
      ],
      "text/plain": [
       "⎡                                                                             \n",
       "⎢r⋅s⋅(r - 1)⋅(s - 1)                       r⋅s⋅(r + 1)⋅(s - 1)                \n",
       "⎢───────────────────           0           ───────────────────           0    \n",
       "⎢         4                                         4                         \n",
       "⎢                                                                             \n",
       "⎢                                                                             \n",
       "⎢                     r⋅s⋅(r - 1)⋅(s - 1)                       r⋅s⋅(r + 1)⋅(s\n",
       "⎢         0           ───────────────────           0           ──────────────\n",
       "⎣                              4                                         4    \n",
       "\n",
       "                                                                              \n",
       "       r⋅s⋅(r + 1)⋅(s + 1)                       r⋅s⋅(r - 1)⋅(s + 1)          \n",
       "       ───────────────────           0           ───────────────────          \n",
       "                4                                         4                   \n",
       "                                                                              \n",
       "                                                                              \n",
       " - 1)                       r⋅s⋅(r + 1)⋅(s + 1)                       r⋅s⋅(r -\n",
       "─────           0           ───────────────────           0           ────────\n",
       "                                     4                                        \n",
       "\n",
       "               ⎛     2⎞                                ⎛     2⎞               \n",
       "             s⋅⎝1 - r ⎠⋅(s - 1)                      r⋅⎝1 - s ⎠⋅(r + 1)       \n",
       " 0           ──────────────────          0           ──────────────────       \n",
       "                     2                                       2                \n",
       "                                                                              \n",
       "                                   ⎛     2⎞                                ⎛  \n",
       " 1)⋅(s + 1)                      s⋅⎝1 - r ⎠⋅(s - 1)                      r⋅⎝1 \n",
       "───────────          0           ──────────────────          0           ─────\n",
       " 4                                       2                                    \n",
       "\n",
       "                 ⎛     2⎞                                ⎛     2⎞             \n",
       "               s⋅⎝1 - r ⎠⋅(s + 1)                      r⋅⎝1 - s ⎠⋅(r - 1)     \n",
       "   0           ──────────────────          0           ──────────────────     \n",
       "                       2                                       2              \n",
       "                                                                              \n",
       "   2⎞                                ⎛     2⎞                                ⎛\n",
       "- s ⎠⋅(r + 1)                      s⋅⎝1 - r ⎠⋅(s + 1)                      r⋅⎝\n",
       "─────────────          0           ──────────────────          0           ───\n",
       "   2                                       2                                  \n",
       "\n",
       "                                                     ⎤\n",
       "                 ⎛     2⎞ ⎛     2⎞                   ⎥\n",
       "     0           ⎝1 - r ⎠⋅⎝1 - s ⎠          0        ⎥\n",
       "                                                     ⎥\n",
       "                                                     ⎥\n",
       "     2⎞                                              ⎥\n",
       "1 - s ⎠⋅(r - 1)                     ⎛     2⎞ ⎛     2⎞⎥\n",
       "───────────────          0          ⎝1 - r ⎠⋅⎝1 - s ⎠⎥\n",
       "     2                                               ⎦"
      ]
     },
     "metadata": {},
     "output_type": "display_data"
    }
   ],
   "source": [
    "# this one is H in the numerical code\n",
    "H9 = zeros(2, 18)\n",
    "for i in range(9):\n",
    "    H9[0, 2*i] = N9[i]\n",
    "    H9[1, 2*i + 1] = N9[i]\n",
    "\n",
    "display(H9)"
   ]
  },
  {
   "cell_type": "markdown",
   "metadata": {},
   "source": [
    "### Derivatives interpolation matrices"
   ]
  },
  {
   "cell_type": "code",
   "execution_count": 11,
   "metadata": {},
   "outputs": [],
   "source": [
    "B9 = zeros(3, 18)\n",
    "for i in range(9):\n",
    "    B9[0, 2*i] = diff(N9[i], r)\n",
    "    B9[1, 2*i + 1] = diff(N9[i], s)\n",
    "    B9[2, 2*i] = diff(N9[i], s)\n",
    "    B9[2, 2*i + 1] = diff(N9[i], r)\n"
   ]
  },
  {
   "cell_type": "code",
   "execution_count": 12,
   "metadata": {},
   "outputs": [
    {
     "data": {
      "text/latex": [
       "$\\displaystyle \\left[\\begin{matrix}\\frac{1}{4} - \\frac{r}{4} & \\frac{r}{4} + \\frac{1}{4} & - \\frac{r}{4} - \\frac{1}{4} & \\frac{r}{4} - \\frac{1}{4}\\\\\\frac{s}{4} - \\frac{1}{4} & \\frac{1}{4} - \\frac{s}{4} & \\frac{s}{4} + \\frac{1}{4} & - \\frac{s}{4} - \\frac{1}{4}\\end{matrix}\\right]$"
      ],
      "text/plain": [
       "⎡1   r  r   1    r   1   r   1 ⎤\n",
       "⎢─ - ─  ─ + ─  - ─ - ─   ─ - ─ ⎥\n",
       "⎢4   4  4   4    4   4   4   4 ⎥\n",
       "⎢                              ⎥\n",
       "⎢s   1  1   s   s   1     s   1⎥\n",
       "⎢─ - ─  ─ - ─   ─ + ─   - ─ - ─⎥\n",
       "⎣4   4  4   4   4   4     4   4⎦"
      ]
     },
     "metadata": {},
     "output_type": "display_data"
    }
   ],
   "source": [
    "Bk = zeros(2, 4)\n",
    "for i in range(4):\n",
    "    Bk[0, i] = diff(-N4[i], s)\n",
    "    Bk[1, i] = diff(N4[i], r)\n",
    "\n",
    "display(Bk)"
   ]
  },
  {
   "cell_type": "markdown",
   "metadata": {},
   "source": [
    "## Mass matrix"
   ]
  },
  {
   "cell_type": "code",
   "execution_count": 13,
   "metadata": {},
   "outputs": [
    {
     "data": {
      "text/latex": [
       "$\\displaystyle \\left[\\begin{array}{cccccccccccccccccc}\\frac{16}{225} & 0 & - \\frac{4}{225} & 0 & \\frac{1}{225} & 0 & - \\frac{4}{225} & 0 & \\frac{8}{225} & 0 & - \\frac{2}{225} & 0 & - \\frac{2}{225} & 0 & \\frac{8}{225} & 0 & \\frac{4}{225} & 0\\\\0 & \\frac{16}{225} & 0 & - \\frac{4}{225} & 0 & \\frac{1}{225} & 0 & - \\frac{4}{225} & 0 & \\frac{8}{225} & 0 & - \\frac{2}{225} & 0 & - \\frac{2}{225} & 0 & \\frac{8}{225} & 0 & \\frac{4}{225}\\\\- \\frac{4}{225} & 0 & \\frac{16}{225} & 0 & - \\frac{4}{225} & 0 & \\frac{1}{225} & 0 & \\frac{8}{225} & 0 & \\frac{8}{225} & 0 & - \\frac{2}{225} & 0 & - \\frac{2}{225} & 0 & \\frac{4}{225} & 0\\\\0 & - \\frac{4}{225} & 0 & \\frac{16}{225} & 0 & - \\frac{4}{225} & 0 & \\frac{1}{225} & 0 & \\frac{8}{225} & 0 & \\frac{8}{225} & 0 & - \\frac{2}{225} & 0 & - \\frac{2}{225} & 0 & \\frac{4}{225}\\\\\\frac{1}{225} & 0 & - \\frac{4}{225} & 0 & \\frac{16}{225} & 0 & - \\frac{4}{225} & 0 & - \\frac{2}{225} & 0 & \\frac{8}{225} & 0 & \\frac{8}{225} & 0 & - \\frac{2}{225} & 0 & \\frac{4}{225} & 0\\\\0 & \\frac{1}{225} & 0 & - \\frac{4}{225} & 0 & \\frac{16}{225} & 0 & - \\frac{4}{225} & 0 & - \\frac{2}{225} & 0 & \\frac{8}{225} & 0 & \\frac{8}{225} & 0 & - \\frac{2}{225} & 0 & \\frac{4}{225}\\\\- \\frac{4}{225} & 0 & \\frac{1}{225} & 0 & - \\frac{4}{225} & 0 & \\frac{16}{225} & 0 & - \\frac{2}{225} & 0 & - \\frac{2}{225} & 0 & \\frac{8}{225} & 0 & \\frac{8}{225} & 0 & \\frac{4}{225} & 0\\\\0 & - \\frac{4}{225} & 0 & \\frac{1}{225} & 0 & - \\frac{4}{225} & 0 & \\frac{16}{225} & 0 & - \\frac{2}{225} & 0 & - \\frac{2}{225} & 0 & \\frac{8}{225} & 0 & \\frac{8}{225} & 0 & \\frac{4}{225}\\\\\\frac{8}{225} & 0 & \\frac{8}{225} & 0 & - \\frac{2}{225} & 0 & - \\frac{2}{225} & 0 & \\frac{64}{225} & 0 & \\frac{4}{225} & 0 & - \\frac{16}{225} & 0 & \\frac{4}{225} & 0 & \\frac{32}{225} & 0\\\\0 & \\frac{8}{225} & 0 & \\frac{8}{225} & 0 & - \\frac{2}{225} & 0 & - \\frac{2}{225} & 0 & \\frac{64}{225} & 0 & \\frac{4}{225} & 0 & - \\frac{16}{225} & 0 & \\frac{4}{225} & 0 & \\frac{32}{225}\\\\- \\frac{2}{225} & 0 & \\frac{8}{225} & 0 & \\frac{8}{225} & 0 & - \\frac{2}{225} & 0 & \\frac{4}{225} & 0 & \\frac{64}{225} & 0 & \\frac{4}{225} & 0 & - \\frac{16}{225} & 0 & \\frac{32}{225} & 0\\\\0 & - \\frac{2}{225} & 0 & \\frac{8}{225} & 0 & \\frac{8}{225} & 0 & - \\frac{2}{225} & 0 & \\frac{4}{225} & 0 & \\frac{64}{225} & 0 & \\frac{4}{225} & 0 & - \\frac{16}{225} & 0 & \\frac{32}{225}\\\\- \\frac{2}{225} & 0 & - \\frac{2}{225} & 0 & \\frac{8}{225} & 0 & \\frac{8}{225} & 0 & - \\frac{16}{225} & 0 & \\frac{4}{225} & 0 & \\frac{64}{225} & 0 & \\frac{4}{225} & 0 & \\frac{32}{225} & 0\\\\0 & - \\frac{2}{225} & 0 & - \\frac{2}{225} & 0 & \\frac{8}{225} & 0 & \\frac{8}{225} & 0 & - \\frac{16}{225} & 0 & \\frac{4}{225} & 0 & \\frac{64}{225} & 0 & \\frac{4}{225} & 0 & \\frac{32}{225}\\\\\\frac{8}{225} & 0 & - \\frac{2}{225} & 0 & - \\frac{2}{225} & 0 & \\frac{8}{225} & 0 & \\frac{4}{225} & 0 & - \\frac{16}{225} & 0 & \\frac{4}{225} & 0 & \\frac{64}{225} & 0 & \\frac{32}{225} & 0\\\\0 & \\frac{8}{225} & 0 & - \\frac{2}{225} & 0 & - \\frac{2}{225} & 0 & \\frac{8}{225} & 0 & \\frac{4}{225} & 0 & - \\frac{16}{225} & 0 & \\frac{4}{225} & 0 & \\frac{64}{225} & 0 & \\frac{32}{225}\\\\\\frac{4}{225} & 0 & \\frac{4}{225} & 0 & \\frac{4}{225} & 0 & \\frac{4}{225} & 0 & \\frac{32}{225} & 0 & \\frac{32}{225} & 0 & \\frac{32}{225} & 0 & \\frac{32}{225} & 0 & \\frac{256}{225} & 0\\\\0 & \\frac{4}{225} & 0 & \\frac{4}{225} & 0 & \\frac{4}{225} & 0 & \\frac{4}{225} & 0 & \\frac{32}{225} & 0 & \\frac{32}{225} & 0 & \\frac{32}{225} & 0 & \\frac{32}{225} & 0 & \\frac{256}{225}\\end{array}\\right]$"
      ],
      "text/plain": [
       "⎡  16                                                                         \n",
       "⎢ ───      0     -4/225    0     1/225     0     -4/225    0     8/225     0  \n",
       "⎢ 225                                                                         \n",
       "⎢                                                                             \n",
       "⎢          16                                                                 \n",
       "⎢  0      ───      0     -4/225    0     1/225     0     -4/225    0     8/225\n",
       "⎢         225                                                                 \n",
       "⎢                                                                             \n",
       "⎢                  16                                                         \n",
       "⎢-4/225    0      ───      0     -4/225    0     1/225     0     8/225     0  \n",
       "⎢                 225                                                         \n",
       "⎢                                                                             \n",
       "⎢                          16                                                 \n",
       "⎢  0     -4/225    0      ───      0     -4/225    0     1/225     0     8/225\n",
       "⎢                         225                                                 \n",
       "⎢                                                                             \n",
       "⎢                                  16                                         \n",
       "⎢1/225     0     -4/225    0      ───      0     -4/225    0     -2/225    0  \n",
       "⎢                                 225                                         \n",
       "⎢                                                                             \n",
       "⎢                                          16                                 \n",
       "⎢  0     1/225     0     -4/225    0      ───      0     -4/225    0     -2/22\n",
       "⎢                                         225                                 \n",
       "⎢                                                                             \n",
       "⎢                                                  16                         \n",
       "⎢-4/225    0     1/225     0     -4/225    0      ───      0     -2/225    0  \n",
       "⎢                                                 225                         \n",
       "⎢                                                                             \n",
       "⎢                                                          16                 \n",
       "⎢  0     -4/225    0     1/225     0     -4/225    0      ───      0     -2/22\n",
       "⎢                                                         225                 \n",
       "⎢                                                                             \n",
       "⎢                                                                  64         \n",
       "⎢8/225     0     8/225     0     -2/225    0     -2/225    0      ───      0  \n",
       "⎢                                                                 225         \n",
       "⎢                                                                             \n",
       "⎢                                                                          64 \n",
       "⎢  0     8/225     0     8/225     0     -2/225    0     -2/225    0      ─── \n",
       "⎢                                                                         225 \n",
       "⎢                                                                             \n",
       "⎢                                                                             \n",
       "⎢-2/225    0     8/225     0     8/225     0     -2/225    0     4/225     0  \n",
       "⎢                                                                             \n",
       "⎢                                                                             \n",
       "⎢                                                                             \n",
       "⎢  0     -2/225    0     8/225     0     8/225     0     -2/225    0     4/225\n",
       "⎢                                                                             \n",
       "⎢                                                                             \n",
       "⎢                                                                 -16         \n",
       "⎢-2/225    0     -2/225    0     8/225     0     8/225     0      ────     0  \n",
       "⎢                                                                 225         \n",
       "⎢                                                                             \n",
       "⎢                                                                         -16 \n",
       "⎢  0     -2/225    0     -2/225    0     8/225     0     8/225     0      ────\n",
       "⎢                                                                         225 \n",
       "⎢                                                                             \n",
       "⎢                                                                             \n",
       "⎢8/225     0     -2/225    0     -2/225    0     8/225     0     4/225     0  \n",
       "⎢                                                                             \n",
       "⎢                                                                             \n",
       "⎢                                                                             \n",
       "⎢  0     8/225     0     -2/225    0     -2/225    0     8/225     0     4/225\n",
       "⎢                                                                             \n",
       "⎢                                                                             \n",
       "⎢                                                                  32         \n",
       "⎢4/225     0     4/225     0     4/225     0     4/225     0      ───      0  \n",
       "⎢                                                                 225         \n",
       "⎢                                                                             \n",
       "⎢                                                                          32 \n",
       "⎢  0     4/225     0     4/225     0     4/225     0     4/225     0      ─── \n",
       "⎣                                                                         225 \n",
       "\n",
       "                                                               ⎤\n",
       "   -2/225    0     -2/225    0     8/225     0     4/225    0  ⎥\n",
       "                                                               ⎥\n",
       "                                                               ⎥\n",
       "                                                               ⎥\n",
       "     0     -2/225    0     -2/225    0     8/225     0    4/225⎥\n",
       "                                                               ⎥\n",
       "                                                               ⎥\n",
       "                                                               ⎥\n",
       "   8/225     0     -2/225    0     -2/225    0     4/225    0  ⎥\n",
       "                                                               ⎥\n",
       "                                                               ⎥\n",
       "                                                               ⎥\n",
       "     0     8/225     0     -2/225    0     -2/225    0    4/225⎥\n",
       "                                                               ⎥\n",
       "                                                               ⎥\n",
       "                                                               ⎥\n",
       "   8/225     0     8/225     0     -2/225    0     4/225    0  ⎥\n",
       "                                                               ⎥\n",
       "                                                               ⎥\n",
       "                                                               ⎥\n",
       "5    0     8/225     0     8/225     0     -2/225    0    4/225⎥\n",
       "                                                               ⎥\n",
       "                                                               ⎥\n",
       "                                                               ⎥\n",
       "   -2/225    0     8/225     0     8/225     0     4/225    0  ⎥\n",
       "                                                               ⎥\n",
       "                                                               ⎥\n",
       "                                                               ⎥\n",
       "5    0     -2/225    0     8/225     0     8/225     0    4/225⎥\n",
       "                                                               ⎥\n",
       "                                                               ⎥\n",
       "                    -16                              32        ⎥\n",
       "   4/225     0      ────     0     4/225     0      ───     0  ⎥\n",
       "                    225                             225        ⎥\n",
       "                                                               ⎥\n",
       "                            -16                             32 ⎥\n",
       "     0     4/225     0      ────     0     4/225     0     ─── ⎥\n",
       "                            225                            225 ⎥\n",
       "                                                               ⎥\n",
       "     64                             -16              32        ⎥\n",
       "    ───      0     4/225     0      ────     0      ───     0  ⎥\n",
       "    225                             225             225        ⎥\n",
       "                                                               ⎥\n",
       "             64                             -16             32 ⎥\n",
       "     0      ───      0     4/225     0      ────     0     ─── ⎥\n",
       "            225                             225            225 ⎥\n",
       "                                                               ⎥\n",
       "                     64                              32        ⎥\n",
       "   4/225     0      ───      0     4/225     0      ───     0  ⎥\n",
       "                    225                             225        ⎥\n",
       "                                                               ⎥\n",
       "                             64                             32 ⎥\n",
       "     0     4/225     0      ───      0     4/225     0     ─── ⎥\n",
       "                            225                            225 ⎥\n",
       "                                                               ⎥\n",
       "    -16                              64              32        ⎥\n",
       "    ────     0     4/225     0      ───      0      ───     0  ⎥\n",
       "    225                             225             225        ⎥\n",
       "                                                               ⎥\n",
       "            -16                              64             32 ⎥\n",
       "     0      ────     0     4/225     0      ───      0     ─── ⎥\n",
       "            225                             225            225 ⎥\n",
       "                                                               ⎥\n",
       "     32              32              32             256        ⎥\n",
       "    ───      0      ───      0      ───      0      ───     0  ⎥\n",
       "    225             225             225             225        ⎥\n",
       "                                                               ⎥\n",
       "             32              32              32            256 ⎥\n",
       "     0      ───      0      ───      0      ───      0     ─── ⎥\n",
       "            225             225             225            225 ⎦"
      ]
     },
     "metadata": {},
     "output_type": "display_data"
    }
   ],
   "source": [
    "M9_inte = H9.T * H9\n",
    "M9 = integrate(integrate(rho*M9_inte, [r, -1, 1]), [s, -1, 1])\n",
    "display(M9.subs(rho, 1))"
   ]
  },
  {
   "cell_type": "markdown",
   "metadata": {},
   "source": [
    "## Stiffness matrix"
   ]
  },
  {
   "cell_type": "code",
   "execution_count": 14,
   "metadata": {},
   "outputs": [],
   "source": [
    "Kuu_inte = B9.T * C * B9\n",
    "Kuu = simplify(integrate(integrate(Kuu_inte, [r, -1, 1]), [s, -1, 1]))"
   ]
  },
  {
   "cell_type": "code",
   "execution_count": 15,
   "metadata": {},
   "outputs": [
    {
     "data": {
      "text/latex": [
       "$\\displaystyle \\left[\\begin{matrix}4 \\eta & 0\\\\0 & 4 \\eta\\end{matrix}\\right]$"
      ],
      "text/plain": [
       "⎡4⋅η   0 ⎤\n",
       "⎢        ⎥\n",
       "⎣ 0   4⋅η⎦"
      ]
     },
     "execution_count": 15,
     "metadata": {},
     "output_type": "execute_result"
    }
   ],
   "source": [
    "D"
   ]
  },
  {
   "cell_type": "code",
   "execution_count": 16,
   "metadata": {},
   "outputs": [],
   "source": [
    "Kθ_inte = Bk.T * D * Bk\n",
    "Kθ = simplify(integrate(integrate(Kθ_inte, [r, -1, 1]), [s, -1, 1]))"
   ]
  },
  {
   "cell_type": "code",
   "execution_count": 17,
   "metadata": {},
   "outputs": [
    {
     "data": {
      "text/latex": [
       "$\\displaystyle \\left[\\begin{array}{cccccccccccccccccc}- \\frac{r s \\left(r - 1\\right)}{4} - \\frac{r \\left(r - 1\\right) \\left(s - 1\\right)}{4} & \\frac{r s \\left(s - 1\\right)}{4} + \\frac{s \\left(r - 1\\right) \\left(s - 1\\right)}{4} & - \\frac{r s \\left(r + 1\\right)}{4} - \\frac{r \\left(r + 1\\right) \\left(s - 1\\right)}{4} & \\frac{r s \\left(s - 1\\right)}{4} + \\frac{s \\left(r + 1\\right) \\left(s - 1\\right)}{4} & - \\frac{r s \\left(r + 1\\right)}{4} - \\frac{r \\left(r + 1\\right) \\left(s + 1\\right)}{4} & \\frac{r s \\left(s + 1\\right)}{4} + \\frac{s \\left(r + 1\\right) \\left(s + 1\\right)}{4} & - \\frac{r s \\left(r - 1\\right)}{4} - \\frac{r \\left(r - 1\\right) \\left(s + 1\\right)}{4} & \\frac{r s \\left(s + 1\\right)}{4} + \\frac{s \\left(r - 1\\right) \\left(s + 1\\right)}{4} & - \\frac{s \\left(1 - r^{2}\\right)}{2} - \\frac{\\left(1 - r^{2}\\right) \\left(s - 1\\right)}{2} & - r s \\left(s - 1\\right) & r s \\left(r + 1\\right) & \\frac{r \\left(1 - s^{2}\\right)}{2} + \\frac{\\left(1 - s^{2}\\right) \\left(r + 1\\right)}{2} & - \\frac{s \\left(1 - r^{2}\\right)}{2} - \\frac{\\left(1 - r^{2}\\right) \\left(s + 1\\right)}{2} & - r s \\left(s + 1\\right) & r s \\left(r - 1\\right) & \\frac{r \\left(1 - s^{2}\\right)}{2} + \\frac{\\left(1 - s^{2}\\right) \\left(r - 1\\right)}{2} & 2 s \\left(1 - r^{2}\\right) & - 2 r \\left(1 - s^{2}\\right)\\end{array}\\right]$"
      ],
      "text/plain": [
       "⎡                                                                             \n",
       "⎢  r⋅s⋅(r - 1)   r⋅(r - 1)⋅(s - 1)  r⋅s⋅(s - 1)   s⋅(r - 1)⋅(s - 1)    r⋅s⋅(r \n",
       "⎢- ─────────── - ─────────────────  ─────────── + ─────────────────  - ───────\n",
       "⎣       4                4               4                4                 4 \n",
       "\n",
       "                                                                              \n",
       "+ 1)   r⋅(r + 1)⋅(s - 1)  r⋅s⋅(s - 1)   s⋅(r + 1)⋅(s - 1)    r⋅s⋅(r + 1)   r⋅(\n",
       "──── - ─────────────────  ─────────── + ─────────────────  - ─────────── - ───\n",
       "               4               4                4                 4           \n",
       "\n",
       "                                                                              \n",
       "r + 1)⋅(s + 1)  r⋅s⋅(s + 1)   s⋅(r + 1)⋅(s + 1)    r⋅s⋅(r - 1)   r⋅(r - 1)⋅(s \n",
       "──────────────  ─────────── + ─────────────────  - ─────────── - ─────────────\n",
       "     4               4                4                 4                4    \n",
       "\n",
       "                                           ⎛     2⎞   ⎛     2⎞                \n",
       "+ 1)  r⋅s⋅(s + 1)   s⋅(r - 1)⋅(s + 1)    s⋅⎝1 - r ⎠   ⎝1 - r ⎠⋅(s - 1)        \n",
       "────  ─────────── + ─────────────────  - ────────── - ────────────────  -r⋅s⋅(\n",
       "           4                4                2               2                \n",
       "\n",
       "                       ⎛     2⎞   ⎛     2⎞              ⎛     2⎞   ⎛     2⎞   \n",
       "                     r⋅⎝1 - s ⎠   ⎝1 - s ⎠⋅(r + 1)    s⋅⎝1 - r ⎠   ⎝1 - r ⎠⋅(s\n",
       "s - 1)  r⋅s⋅(r + 1)  ────────── + ────────────────  - ────────── - ───────────\n",
       "                         2               2                2               2   \n",
       "\n",
       "                                    ⎛     2⎞   ⎛     2⎞                       \n",
       " + 1)                             r⋅⎝1 - s ⎠   ⎝1 - s ⎠⋅(r - 1)      ⎛     2⎞ \n",
       "─────  -r⋅s⋅(s + 1)  r⋅s⋅(r - 1)  ────────── + ────────────────  2⋅s⋅⎝1 - r ⎠ \n",
       "                                      2               2                       \n",
       "\n",
       "              ⎤\n",
       "      ⎛     2⎞⎥\n",
       " -2⋅r⋅⎝1 - s ⎠⎥\n",
       "              ⎦"
      ]
     },
     "metadata": {},
     "output_type": "display_data"
    }
   ],
   "source": [
    "B_curl = zeros(1, 18)\n",
    "for i in range(9):\n",
    "    B_curl[0, 2*i] = diff(-N9[i], s)\n",
    "    B_curl[0, 2*i + 1] = diff(N9[i], r)\n",
    "\n",
    "display(B_curl)"
   ]
  },
  {
   "cell_type": "code",
   "execution_count": 18,
   "metadata": {},
   "outputs": [
    {
     "data": {
      "text/latex": [
       "$\\displaystyle \\left[\\begin{matrix}\\frac{1}{3}\\\\- \\frac{1}{3}\\\\\\frac{1}{3}\\\\\\frac{1}{3}\\\\- \\frac{1}{3}\\\\\\frac{1}{3}\\\\- \\frac{1}{3}\\\\- \\frac{1}{3}\\\\\\frac{4}{3}\\\\0\\\\0\\\\\\frac{4}{3}\\\\- \\frac{4}{3}\\\\0\\\\0\\\\- \\frac{4}{3}\\\\0\\\\0\\end{matrix}\\right]$"
      ],
      "text/plain": [
       "⎡1/3 ⎤\n",
       "⎢    ⎥\n",
       "⎢-1/3⎥\n",
       "⎢    ⎥\n",
       "⎢1/3 ⎥\n",
       "⎢    ⎥\n",
       "⎢1/3 ⎥\n",
       "⎢    ⎥\n",
       "⎢-1/3⎥\n",
       "⎢    ⎥\n",
       "⎢1/3 ⎥\n",
       "⎢    ⎥\n",
       "⎢-1/3⎥\n",
       "⎢    ⎥\n",
       "⎢-1/3⎥\n",
       "⎢    ⎥\n",
       "⎢4/3 ⎥\n",
       "⎢    ⎥\n",
       "⎢ 0  ⎥\n",
       "⎢    ⎥\n",
       "⎢ 0  ⎥\n",
       "⎢    ⎥\n",
       "⎢4/3 ⎥\n",
       "⎢    ⎥\n",
       "⎢-4/3⎥\n",
       "⎢    ⎥\n",
       "⎢ 0  ⎥\n",
       "⎢    ⎥\n",
       "⎢ 0  ⎥\n",
       "⎢    ⎥\n",
       "⎢-4/3⎥\n",
       "⎢    ⎥\n",
       "⎢ 0  ⎥\n",
       "⎢    ⎥\n",
       "⎣ 0  ⎦"
      ]
     },
     "metadata": {},
     "output_type": "display_data"
    }
   ],
   "source": [
    "Kus = simplify(integrate(integrate(B_curl, [r, -1, 1]), [s, -1, 1]))\n",
    "display(Kus.T)"
   ]
  },
  {
   "cell_type": "code",
   "execution_count": 19,
   "metadata": {},
   "outputs": [
    {
     "data": {
      "text/latex": [
       "$\\displaystyle \\left[\\begin{matrix}2\\\\2\\\\2\\\\2\\end{matrix}\\right]$"
      ],
      "text/plain": [
       "⎡2⎤\n",
       "⎢ ⎥\n",
       "⎢2⎥\n",
       "⎢ ⎥\n",
       "⎢2⎥\n",
       "⎢ ⎥\n",
       "⎣2⎦"
      ]
     },
     "metadata": {},
     "output_type": "display_data"
    }
   ],
   "source": [
    "Ksθ_inte = 2*N4\n",
    "Ksθ  = simplify(integrate(integrate(Ksθ_inte, [r, -1, 1]), [s, -1, 1]))\n",
    "display(Ksθ)"
   ]
  }
 ],
 "metadata": {
  "anaconda-cloud": {},
  "kernelspec": {
   "display_name": "Python 3 (ipykernel)",
   "language": "python",
   "name": "python3"
  },
  "language_info": {
   "codemirror_mode": {
    "name": "ipython",
    "version": 3
   },
   "file_extension": ".py",
   "mimetype": "text/x-python",
   "name": "python",
   "nbconvert_exporter": "python",
   "pygments_lexer": "ipython3",
   "version": "3.12.2"
  },
  "varInspector": {
   "cols": {
    "lenName": 16,
    "lenType": 16,
    "lenVar": 40
   },
   "kernels_config": {
    "python": {
     "delete_cmd_postfix": "",
     "delete_cmd_prefix": "del ",
     "library": "var_list.py",
     "varRefreshCmd": "print(var_dic_list())"
    },
    "r": {
     "delete_cmd_postfix": ") ",
     "delete_cmd_prefix": "rm(",
     "library": "var_list.r",
     "varRefreshCmd": "cat(var_dic_list()) "
    }
   },
   "types_to_exclude": [
    "module",
    "function",
    "builtin_function_or_method",
    "instance",
    "_Feature"
   ],
   "window_display": false
  }
 },
 "nbformat": 4,
 "nbformat_minor": 4
}
