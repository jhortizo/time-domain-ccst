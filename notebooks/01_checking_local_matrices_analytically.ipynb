{
 "cells": [
  {
   "cell_type": "markdown",
   "metadata": {},
   "source": [
    "# Analytic integration of C-CST element\n",
    "\n",
    "We tried to do the computational implementation directly and failed 🥲. So we need to build the local matrices for our element analytically and use that as a reference to fix the numerical approach.\n",
    "\n",
    "The element is a 9-node quadrilateral where the 9-nodes are used to interpolate the x and y displacements, the 4 nodes on the vertices are used to interpolate the rotation field and the element in the facet interpolates the skew-symmetric part of the force-stress tensor.\n",
    "\n",
    "It is a slight variation from the element described in [Guarín Variational methods for Bloch analysis paper](https://arxiv.org/pdf/2106.08893)\n"
   ]
  },
  {
   "cell_type": "code",
   "execution_count": 1,
   "metadata": {},
   "outputs": [],
   "source": [
    "from sympy import init_session\n",
    "\n",
    "init_session()"
   ]
  },
  {
   "cell_type": "code",
   "execution_count": 2,
   "metadata": {},
   "outputs": [
    {
     "name": "stdout",
     "output_type": "stream",
     "text": [
      "IPython console for SymPy 1.12 (Python 3.11.5-64-bit) (ground types: gmpy)\n",
      "\n",
      "These commands were executed:\n",
      ">>> from sympy import *\n",
      ">>> x, y, z, t = symbols('x y z t')\n",
      ">>> k, m, n = symbols('k m n', integer=True)\n",
      ">>> f, g, h = symbols('f g h', cls=Function)\n",
      ">>> init_printing()\n",
      "\n",
      "Documentation can be found at https://docs.sympy.org/1.12/\n",
      "\n"
     ]
    }
   ],
   "source": []
  },
  {
   "cell_type": "code",
   "execution_count": 3,
   "metadata": {},
   "outputs": [],
   "source": [
    "E, rho = symbols('E rho', positive=True)\n",
    "nu, r, s = symbols('nu r s')"
   ]
  },
  {
   "cell_type": "markdown",
   "metadata": {},
   "source": [
    "Constitutive equations in Voigt's notation"
   ]
  },
  {
   "cell_type": "code",
   "execution_count": 4,
   "metadata": {},
   "outputs": [
    {
     "data": {
      "image/png": "[encoded data removed]",
      "text/latex": [
       "$\\displaystyle \\left[\\begin{matrix}1 - \\nu & \\nu & 0\\\\\\nu & 1 & 0\\\\0 & 0 & \\frac{1}{2} - \\nu\\end{matrix}\\right]$"
      ],
      "text/plain": [
       "⎡1 - ν  ν     0   ⎤\n",
       "⎢                 ⎥\n",
       "⎢  ν    1     0   ⎥\n",
       "⎢                 ⎥\n",
       "⎣  0    0  1/2 - ν⎦"
      ]
     },
     "metadata": {},
     "output_type": "display_data"
    }
   ],
   "source": [
    "factor = E/((1+nu)*(1-2*nu))\n",
    "factor = 1\n",
    "C = factor*Matrix([\n",
    "     [1 - nu,nu,0], \n",
    "     [nu,1,0], \n",
    "     [0,0,(1-2*nu)/2]])\n",
    "display(C)"
   ]
  },
  {
   "cell_type": "markdown",
   "metadata": {},
   "source": [
    "### 4 Nodes"
   ]
  },
  {
   "cell_type": "markdown",
   "metadata": {},
   "source": [
    "Interpolation functions\n",
    "\n",
    "    2-----1\n",
    "    |     |\n",
    "    |     |\n",
    "    3-----4"
   ]
  },
  {
   "cell_type": "code",
   "execution_count": 5,
   "metadata": {},
   "outputs": [],
   "source": [
    "N = S(1)/4*Matrix([(1 + r) * (1 + s),\n",
    "                  (1 - r) * (1 + s),\n",
    "                  (1 - r) * (1 - s),\n",
    "                  (1 + r) * (1 - s)])"
   ]
  },
  {
   "cell_type": "markdown",
   "metadata": {},
   "source": [
    "Interpolation matrix"
   ]
  },
  {
   "cell_type": "code",
   "execution_count": 6,
   "metadata": {
    "scrolled": true
   },
   "outputs": [
    {
     "data": {
      "image/png": "[encoded data removed]",
      "text/latex": [
       "$\\displaystyle \\left[\\begin{matrix}\\frac{\\left(r + 1\\right) \\left(s + 1\\right)}{4} & 0 & \\frac{\\left(1 - r\\right) \\left(s + 1\\right)}{4} & 0 & \\frac{\\left(1 - r\\right) \\left(1 - s\\right)}{4} & 0 & \\frac{\\left(1 - s\\right) \\left(r + 1\\right)}{4} & 0\\\\0 & \\frac{\\left(r + 1\\right) \\left(s + 1\\right)}{4} & 0 & \\frac{\\left(1 - r\\right) \\left(s + 1\\right)}{4} & 0 & \\frac{\\left(1 - r\\right) \\left(1 - s\\right)}{4} & 0 & \\frac{\\left(1 - s\\right) \\left(r + 1\\right)}{4}\\end{matrix}\\right]$"
      ],
      "text/plain": [
       "⎡(r + 1)⋅(s + 1)                   (1 - r)⋅(s + 1)                   (1 - r)⋅(\n",
       "⎢───────────────         0         ───────────────         0         ─────────\n",
       "⎢       4                                 4                                 4 \n",
       "⎢                                                                             \n",
       "⎢                 (r + 1)⋅(s + 1)                   (1 - r)⋅(s + 1)           \n",
       "⎢       0         ───────────────         0         ───────────────         0 \n",
       "⎣                        4                                 4                  \n",
       "\n",
       "1 - s)                   (1 - s)⋅(r + 1)                 ⎤\n",
       "──────         0         ───────────────         0       ⎥\n",
       "                                4                        ⎥\n",
       "                                                         ⎥\n",
       "        (1 - r)⋅(1 - s)                   (1 - s)⋅(r + 1)⎥\n",
       "        ───────────────         0         ───────────────⎥\n",
       "               4                                 4       ⎦"
      ]
     },
     "metadata": {},
     "output_type": "display_data"
    }
   ],
   "source": [
    "H = zeros(2, 8)\n",
    "for i in range(4):\n",
    "    H[0, 2*i] = N[i]\n",
    "    H[1, 2*i + 1] = N[i]\n",
    "\n",
    "display(H)"
   ]
  },
  {
   "cell_type": "markdown",
   "metadata": {},
   "source": [
    "Mass matrix"
   ]
  },
  {
   "cell_type": "code",
   "execution_count": 7,
   "metadata": {},
   "outputs": [
    {
     "data": {
      "image/png": "[encoded data removed]",
      "text/latex": [
       "$\\displaystyle \\left[\\begin{matrix}\\frac{4 \\rho}{9} & 0 & \\frac{2 \\rho}{9} & 0 & \\frac{\\rho}{9} & 0 & \\frac{2 \\rho}{9} & 0\\\\0 & \\frac{4 \\rho}{9} & 0 & \\frac{2 \\rho}{9} & 0 & \\frac{\\rho}{9} & 0 & \\frac{2 \\rho}{9}\\\\\\frac{2 \\rho}{9} & 0 & \\frac{4 \\rho}{9} & 0 & \\frac{2 \\rho}{9} & 0 & \\frac{\\rho}{9} & 0\\\\0 & \\frac{2 \\rho}{9} & 0 & \\frac{4 \\rho}{9} & 0 & \\frac{2 \\rho}{9} & 0 & \\frac{\\rho}{9}\\\\\\frac{\\rho}{9} & 0 & \\frac{2 \\rho}{9} & 0 & \\frac{4 \\rho}{9} & 0 & \\frac{2 \\rho}{9} & 0\\\\0 & \\frac{\\rho}{9} & 0 & \\frac{2 \\rho}{9} & 0 & \\frac{4 \\rho}{9} & 0 & \\frac{2 \\rho}{9}\\\\\\frac{2 \\rho}{9} & 0 & \\frac{\\rho}{9} & 0 & \\frac{2 \\rho}{9} & 0 & \\frac{4 \\rho}{9} & 0\\\\0 & \\frac{2 \\rho}{9} & 0 & \\frac{\\rho}{9} & 0 & \\frac{2 \\rho}{9} & 0 & \\frac{4 \\rho}{9}\\end{matrix}\\right]$"
      ],
      "text/plain": [
       "⎡4⋅ρ       2⋅ρ        ρ        2⋅ρ     ⎤\n",
       "⎢───   0   ───   0    ─    0   ───   0 ⎥\n",
       "⎢ 9         9         9         9      ⎥\n",
       "⎢                                      ⎥\n",
       "⎢     4⋅ρ       2⋅ρ        ρ        2⋅ρ⎥\n",
       "⎢ 0   ───   0   ───   0    ─    0   ───⎥\n",
       "⎢      9         9         9         9 ⎥\n",
       "⎢                                      ⎥\n",
       "⎢2⋅ρ       4⋅ρ       2⋅ρ        ρ      ⎥\n",
       "⎢───   0   ───   0   ───   0    ─    0 ⎥\n",
       "⎢ 9         9         9         9      ⎥\n",
       "⎢                                      ⎥\n",
       "⎢     2⋅ρ       4⋅ρ       2⋅ρ        ρ ⎥\n",
       "⎢ 0   ───   0   ───   0   ───   0    ─ ⎥\n",
       "⎢      9         9         9         9 ⎥\n",
       "⎢                                      ⎥\n",
       "⎢ ρ        2⋅ρ       4⋅ρ       2⋅ρ     ⎥\n",
       "⎢ ─    0   ───   0   ───   0   ───   0 ⎥\n",
       "⎢ 9         9         9         9      ⎥\n",
       "⎢                                      ⎥\n",
       "⎢      ρ        2⋅ρ       4⋅ρ       2⋅ρ⎥\n",
       "⎢ 0    ─    0   ───   0   ───   0   ───⎥\n",
       "⎢      9         9         9         9 ⎥\n",
       "⎢                                      ⎥\n",
       "⎢2⋅ρ        ρ        2⋅ρ       4⋅ρ     ⎥\n",
       "⎢───   0    ─    0   ───   0   ───   0 ⎥\n",
       "⎢ 9         9         9         9      ⎥\n",
       "⎢                                      ⎥\n",
       "⎢     2⋅ρ        ρ        2⋅ρ       4⋅ρ⎥\n",
       "⎢ 0   ───   0    ─    0   ───   0   ───⎥\n",
       "⎣      9         9         9         9 ⎦"
      ]
     },
     "metadata": {},
     "output_type": "display_data"
    }
   ],
   "source": [
    "M_inte = H.T * H\n",
    "M = integrate(integrate(rho*M_inte, [r, -1, 1]), [s, -1, 1])\n",
    "display(M)"
   ]
  },
  {
   "cell_type": "markdown",
   "metadata": {},
   "source": [
    "Derivatives interpolation matrix"
   ]
  },
  {
   "cell_type": "code",
   "execution_count": 8,
   "metadata": {},
   "outputs": [
    {
     "data": {
      "image/png": "[encoded data removed]",
      "text/latex": [
       "$\\displaystyle \\left[\\begin{matrix}\\frac{s}{4} + \\frac{1}{4} & 0 & - \\frac{s}{4} - \\frac{1}{4} & 0 & \\frac{s}{4} - \\frac{1}{4} & 0 & \\frac{1}{4} - \\frac{s}{4} & 0\\\\0 & \\frac{r}{4} + \\frac{1}{4} & 0 & \\frac{1}{4} - \\frac{r}{4} & 0 & \\frac{r}{4} - \\frac{1}{4} & 0 & - \\frac{r}{4} - \\frac{1}{4}\\\\\\frac{r}{4} + \\frac{1}{4} & \\frac{s}{4} + \\frac{1}{4} & \\frac{1}{4} - \\frac{r}{4} & - \\frac{s}{4} - \\frac{1}{4} & \\frac{r}{4} - \\frac{1}{4} & \\frac{s}{4} - \\frac{1}{4} & - \\frac{r}{4} - \\frac{1}{4} & \\frac{1}{4} - \\frac{s}{4}\\end{matrix}\\right]$"
      ],
      "text/plain": [
       "⎡s   1           s   1           s   1          1   s          ⎤\n",
       "⎢─ + ─    0    - ─ - ─     0     ─ - ─    0     ─ - ─      0   ⎥\n",
       "⎢4   4           4   4           4   4          4   4          ⎥\n",
       "⎢                                                              ⎥\n",
       "⎢       r   1            1   r          r   1             r   1⎥\n",
       "⎢  0    ─ + ─     0      ─ - ─     0    ─ - ─     0     - ─ - ─⎥\n",
       "⎢       4   4            4   4          4   4             4   4⎥\n",
       "⎢                                                              ⎥\n",
       "⎢r   1  s   1   1   r     s   1  r   1  s   1    r   1   1   s ⎥\n",
       "⎢─ + ─  ─ + ─   ─ - ─   - ─ - ─  ─ - ─  ─ - ─  - ─ - ─   ─ - ─ ⎥\n",
       "⎣4   4  4   4   4   4     4   4  4   4  4   4    4   4   4   4 ⎦"
      ]
     },
     "metadata": {},
     "output_type": "display_data"
    }
   ],
   "source": [
    "B = zeros(3, 8)\n",
    "for i in range(4):\n",
    "    B[0, 2*i] = diff(N[i], r)\n",
    "    B[1, 2*i + 1] = diff(N[i], s)\n",
    "    B[2, 2*i] = diff(N[i], s)\n",
    "    B[2, 2*i + 1] = diff(N[i], r)\n",
    "\n",
    "display(B)"
   ]
  },
  {
   "cell_type": "markdown",
   "metadata": {},
   "source": [
    "Stiffness matrix"
   ]
  },
  {
   "cell_type": "code",
   "execution_count": 9,
   "metadata": {},
   "outputs": [
    {
     "data": {
      "image/png": "[encoded data removed]",
      "text/latex": [
       "$\\displaystyle \\left[\\begin{matrix}\\frac{1}{2} - \\frac{2 \\nu}{3} & \\frac{1}{8} & \\frac{\\nu}{6} - \\frac{1}{4} & \\frac{\\nu}{2} - \\frac{1}{8} & \\frac{\\nu}{3} - \\frac{1}{4} & - \\frac{1}{8} & \\frac{\\nu}{6} & \\frac{1}{8} - \\frac{\\nu}{2}\\\\\\frac{1}{8} & \\frac{1}{2} - \\frac{\\nu}{3} & \\frac{1}{8} - \\frac{\\nu}{2} & \\frac{\\nu}{3} & - \\frac{1}{8} & \\frac{\\nu}{6} - \\frac{1}{4} & \\frac{\\nu}{2} - \\frac{1}{8} & - \\frac{\\nu}{6} - \\frac{1}{4}\\\\\\frac{\\nu}{6} - \\frac{1}{4} & \\frac{1}{8} - \\frac{\\nu}{2} & \\frac{1}{2} - \\frac{2 \\nu}{3} & - \\frac{1}{8} & \\frac{\\nu}{6} & \\frac{\\nu}{2} - \\frac{1}{8} & \\frac{\\nu}{3} - \\frac{1}{4} & \\frac{1}{8}\\\\\\frac{\\nu}{2} - \\frac{1}{8} & \\frac{\\nu}{3} & - \\frac{1}{8} & \\frac{1}{2} - \\frac{\\nu}{3} & \\frac{1}{8} - \\frac{\\nu}{2} & - \\frac{\\nu}{6} - \\frac{1}{4} & \\frac{1}{8} & \\frac{\\nu}{6} - \\frac{1}{4}\\\\\\frac{\\nu}{3} - \\frac{1}{4} & - \\frac{1}{8} & \\frac{\\nu}{6} & \\frac{1}{8} - \\frac{\\nu}{2} & \\frac{1}{2} - \\frac{2 \\nu}{3} & \\frac{1}{8} & \\frac{\\nu}{6} - \\frac{1}{4} & \\frac{\\nu}{2} - \\frac{1}{8}\\\\- \\frac{1}{8} & \\frac{\\nu}{6} - \\frac{1}{4} & \\frac{\\nu}{2} - \\frac{1}{8} & - \\frac{\\nu}{6} - \\frac{1}{4} & \\frac{1}{8} & \\frac{1}{2} - \\frac{\\nu}{3} & \\frac{1}{8} - \\frac{\\nu}{2} & \\frac{\\nu}{3}\\\\\\frac{\\nu}{6} & \\frac{\\nu}{2} - \\frac{1}{8} & \\frac{\\nu}{3} - \\frac{1}{4} & \\frac{1}{8} & \\frac{\\nu}{6} - \\frac{1}{4} & \\frac{1}{8} - \\frac{\\nu}{2} & \\frac{1}{2} - \\frac{2 \\nu}{3} & - \\frac{1}{8}\\\\\\frac{1}{8} - \\frac{\\nu}{2} & - \\frac{\\nu}{6} - \\frac{1}{4} & \\frac{1}{8} & \\frac{\\nu}{6} - \\frac{1}{4} & \\frac{\\nu}{2} - \\frac{1}{8} & \\frac{\\nu}{3} & - \\frac{1}{8} & \\frac{1}{2} - \\frac{\\nu}{3}\\end{matrix}\\right]$"
      ],
      "text/plain": [
       "⎡1   2⋅ν            ν   1    ν   1    ν   1               ν      1   ν ⎤\n",
       "⎢─ - ───    1/8     ─ - ─    ─ - ─    ─ - ─    -1/8       ─      ─ - ─ ⎥\n",
       "⎢2    3             6   4    2   8    3   4               6      8   2 ⎥\n",
       "⎢                                                                      ⎥\n",
       "⎢          1   ν    1   ν      ν               ν   1    ν   1     ν   1⎥\n",
       "⎢  1/8     ─ - ─    ─ - ─      ─      -1/8     ─ - ─    ─ - ─   - ─ - ─⎥\n",
       "⎢          2   3    8   2      3               6   4    2   8     6   4⎥\n",
       "⎢                                                                      ⎥\n",
       "⎢ ν   1    1   ν   1   2⋅ν              ν      ν   1    ν   1          ⎥\n",
       "⎢ ─ - ─    ─ - ─   ─ - ───   -1/8       ─      ─ - ─    ─ - ─     1/8  ⎥\n",
       "⎢ 6   4    8   2   2    3               6      2   8    3   4          ⎥\n",
       "⎢                                                                      ⎥\n",
       "⎢ ν   1      ν               1   ν    1   ν     ν   1            ν   1 ⎥\n",
       "⎢ ─ - ─      ─      -1/8     ─ - ─    ─ - ─   - ─ - ─    1/8     ─ - ─ ⎥\n",
       "⎢ 2   8      3               2   3    8   2     6   4            6   4 ⎥\n",
       "⎢                                                                      ⎥\n",
       "⎢ ν   1               ν      1   ν   1   2⋅ν            ν   1    ν   1 ⎥\n",
       "⎢ ─ - ─    -1/8       ─      ─ - ─   ─ - ───    1/8     ─ - ─    ─ - ─ ⎥\n",
       "⎢ 3   4               6      8   2   2    3             6   4    2   8 ⎥\n",
       "⎢                                                                      ⎥\n",
       "⎢          ν   1    ν   1     ν   1            1   ν    1   ν      ν   ⎥\n",
       "⎢ -1/8     ─ - ─    ─ - ─   - ─ - ─    1/8     ─ - ─    ─ - ─      ─   ⎥\n",
       "⎢          6   4    2   8     6   4            2   3    8   2      3   ⎥\n",
       "⎢                                                                      ⎥\n",
       "⎢   ν      ν   1    ν   1             ν   1    1   ν   1   2⋅ν         ⎥\n",
       "⎢   ─      ─ - ─    ─ - ─     1/8     ─ - ─    ─ - ─   ─ - ───   -1/8  ⎥\n",
       "⎢   6      2   8    3   4             6   4    8   2   2    3          ⎥\n",
       "⎢                                                                      ⎥\n",
       "⎢ 1   ν     ν   1            ν   1    ν   1      ν               1   ν ⎥\n",
       "⎢ ─ - ─   - ─ - ─    1/8     ─ - ─    ─ - ─      ─      -1/8     ─ - ─ ⎥\n",
       "⎣ 8   2     6   4            6   4    2   8      3               2   3 ⎦"
      ]
     },
     "metadata": {},
     "output_type": "display_data"
    }
   ],
   "source": [
    "K_inte = B.T * C * B\n",
    "K = simplify(integrate(integrate(K_inte, [r, -1, 1]), [s, -1, 1]))\n",
    "display(K)"
   ]
  },
  {
   "cell_type": "code",
   "execution_count": 12,
   "metadata": {},
   "outputs": [
    {
     "data": {
      "image/png": "[encoded data removed]",
      "text/latex": [
       "$\\displaystyle \\left[\\begin{matrix}8 & 3 & -5 & 0 & -4 & -3 & 1 & 0\\\\3 & 10 & 0 & 2 & -3 & -5 & 0 & -7\\\\-5 & 0 & 8 & -3 & 1 & 0 & -4 & 3\\\\0 & 2 & -3 & 10 & 0 & -7 & 3 & -5\\\\-4 & -3 & 1 & 0 & 8 & 3 & -5 & 0\\\\-3 & -5 & 0 & -7 & 3 & 10 & 0 & 2\\\\1 & 0 & -4 & 3 & -5 & 0 & 8 & -3\\\\0 & -7 & 3 & -5 & 0 & 2 & -3 & 10\\end{matrix}\\right]$"
      ],
      "text/plain": [
       "⎡8   3   -5  0   -4  -3  1   0 ⎤\n",
       "⎢                              ⎥\n",
       "⎢3   10  0   2   -3  -5  0   -7⎥\n",
       "⎢                              ⎥\n",
       "⎢-5  0   8   -3  1   0   -4  3 ⎥\n",
       "⎢                              ⎥\n",
       "⎢0   2   -3  10  0   -7  3   -5⎥\n",
       "⎢                              ⎥\n",
       "⎢-4  -3  1   0   8   3   -5  0 ⎥\n",
       "⎢                              ⎥\n",
       "⎢-3  -5  0   -7  3   10  0   2 ⎥\n",
       "⎢                              ⎥\n",
       "⎢1   0   -4  3   -5  0   8   -3⎥\n",
       "⎢                              ⎥\n",
       "⎣0   -7  3   -5  0   2   -3  10⎦"
      ]
     },
     "metadata": {},
     "output_type": "display_data"
    }
   ],
   "source": [
    "display(24*K.subs(nu, S(1)/4))"
   ]
  },
  {
   "cell_type": "code",
   "execution_count": null,
   "metadata": {},
   "outputs": [],
   "source": []
  }
 ],
 "metadata": {
  "anaconda-cloud": {},
  "kernelspec": {
   "display_name": "Python 3 (ipykernel)",
   "language": "python",
   "name": "python3"
  },
  "language_info": {
   "codemirror_mode": {
    "name": "ipython",
    "version": 3
   },
   "file_extension": ".py",
   "mimetype": "text/x-python",
   "name": "python",
   "nbconvert_exporter": "python",
   "pygments_lexer": "ipython3",
   "version": "3.11.5"
  },
  "varInspector": {
   "cols": {
    "lenName": 16,
    "lenType": 16,
    "lenVar": 40
   },
   "kernels_config": {
    "python": {
     "delete_cmd_postfix": "",
     "delete_cmd_prefix": "del ",
     "library": "var_list.py",
     "varRefreshCmd": "print(var_dic_list())"
    },
    "r": {
     "delete_cmd_postfix": ") ",
     "delete_cmd_prefix": "rm(",
     "library": "var_list.r",
     "varRefreshCmd": "cat(var_dic_list()) "
    }
   },
   "types_to_exclude": [
    "module",
    "function",
    "builtin_function_or_method",
    "instance",
    "_Feature"
   ],
   "window_display": false
  }
 },
 "nbformat": 4,
 "nbformat_minor": 4
}
